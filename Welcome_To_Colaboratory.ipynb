{
  "nbformat": 4,
  "nbformat_minor": 0,
  "metadata": {
    "colab": {
      "name": "Welcome To Colaboratory",
      "provenance": [],
      "collapsed_sections": [],
      "include_colab_link": true
    },
    "kernelspec": {
      "display_name": "Python 3",
      "name": "python3"
    }
  },
  "cells": [
    {
      "cell_type": "markdown",
      "metadata": {
        "id": "view-in-github",
        "colab_type": "text"
      },
      "source": [
        "<a href=\"https://colab.research.google.com/github/Mr-Jordan199/Mineral-Classifier-using-VGG16/blob/master/Welcome_To_Colaboratory.ipynb\" target=\"_parent\"><img src=\"https://colab.research.google.com/assets/colab-badge.svg\" alt=\"Open In Colab\"/></a>"
      ]
    },
    {
      "cell_type": "markdown",
      "metadata": {
        "colab_type": "text",
        "id": "5fCEDCU_qrC0"
      },
      "source": [
        "<p><img alt=\"Colaboratory logo\" height=\"45px\" src=\"/img/colab_favicon.ico\" align=\"left\" hspace=\"10px\" vspace=\"0px\"></p>\n",
        "\n",
        "<h1>What is Colaboratory?</h1>\n",
        "\n",
        "Colaboratory, or \"Colab\" for short, allows you to write and execute Python in your browser, with \n",
        "- Zero configuration required\n",
        "- Free access to GPUs\n",
        "- Easy sharing\n",
        "\n",
        "Whether you're a **student**, a **data scientist** or an **AI researcher**, Colab can make your work easier. Watch [Introduction to Colab](https://www.youtube.com/watch?v=inN8seMm7UI) to learn more, or just get started below!"
      ]
    },
    {
      "cell_type": "markdown",
      "metadata": {
        "colab_type": "text",
        "id": "GJBs_flRovLc"
      },
      "source": [
        "## **Getting started**\n",
        "\n",
        "The document you are reading is not a static web page, but an interactive environment called a **Colab notebook** that lets you write and execute code.\n",
        "\n",
        "For example, here is a **code cell** with a short Python script that computes a value, stores it in a variable, and prints the result:"
      ]
    },
    {
      "cell_type": "code",
      "metadata": {
        "colab_type": "code",
        "id": "gJr_9dXGpJ05",
        "outputId": "9f556d03-ec67-4950-a485-cfdba9ddd14d",
        "colab": {
          "base_uri": "https://localhost:8080/",
          "height": 34
        }
      },
      "source": [
        "seconds_in_a_day = 24 * 60 * 60\n",
        "seconds_in_a_day"
      ],
      "execution_count": 0,
      "outputs": [
        {
          "output_type": "execute_result",
          "data": {
            "text/plain": [
              "86400"
            ]
          },
          "metadata": {
            "tags": []
          },
          "execution_count": 0
        }
      ]
    },
    {
      "cell_type": "markdown",
      "metadata": {
        "colab_type": "text",
        "id": "2fhs6GZ4qFMx"
      },
      "source": [
        "To execute the code in the above cell, select it with a click and then either press the play button to the left of the code, or use the keyboard shortcut \"Command/Ctrl+Enter\". To edit the code, just click the cell and start editing.\n",
        "\n",
        "Variables that you define in one cell can later be used in other cells:"
      ]
    },
    {
      "cell_type": "code",
      "metadata": {
        "colab_type": "code",
        "id": "-gE-Ez1qtyIA",
        "outputId": "94cb2224-0edf-457b-90b5-0ac3488d8a97",
        "colab": {
          "base_uri": "https://localhost:8080/",
          "height": 34
        }
      },
      "source": [
        "seconds_in_a_week = 7 * seconds_in_a_day\n",
        "seconds_in_a_week"
      ],
      "execution_count": 0,
      "outputs": [
        {
          "output_type": "execute_result",
          "data": {
            "text/plain": [
              "604800"
            ]
          },
          "metadata": {
            "tags": []
          },
          "execution_count": 0
        }
      ]
    },
    {
      "cell_type": "markdown",
      "metadata": {
        "colab_type": "text",
        "id": "lSrWNr3MuFUS"
      },
      "source": [
        "Colab notebooks allow you to combine **executable code** and **rich text** in a single document, along with **images**, **HTML**, **LaTeX** and more. When you create your own Colab notebooks, they are stored in your Google Drive account. You can easily share your Colab notebooks with co-workers or friends, allowing them to comment on your notebooks or even edit them. To learn more, see [Overview of Colab](/notebooks/basic_features_overview.ipynb). To create a new Colab notebook you can use the File menu above, or use the following link: [create a new Colab notebook](http://colab.research.google.com#create=true).\n",
        "\n",
        "Colab notebooks are Jupyter notebooks that are hosted by Colab. To learn more about the Jupyter project, see [jupyter.org](https://www.jupyter.org)."
      ]
    },
    {
      "cell_type": "markdown",
      "metadata": {
        "colab_type": "text",
        "id": "UdRyKR44dcNI"
      },
      "source": [
        "## Data science\n",
        "\n",
        "With Colab you can harness the full power of popular Python libraries to analyze and visualize data. The code cell below uses **numpy** to generate some random data, and uses **matplotlib** to visualize it. To edit the code, just click the cell and start editing."
      ]
    },
    {
      "cell_type": "code",
      "metadata": {
        "colab_type": "code",
        "id": "C4HZx7Gndbrh",
        "outputId": "46abc637-6abd-41b2-9bba-80a7ae992e06",
        "colab": {
          "base_uri": "https://localhost:8080/",
          "height": 281
        }
      },
      "source": [
        "import numpy as np\n",
        "from matplotlib import pyplot as plt\n",
        "\n",
        "ys = 200 + np.random.randn(100)\n",
        "x = [x for x in range(len(ys))]\n",
        "\n",
        "plt.plot(x, ys, '-')\n",
        "plt.fill_between(x, ys, 195, where=(ys > 195), facecolor='g', alpha=0.6)\n",
        "\n",
        "plt.title(\"Sample Visualization\")\n",
        "plt.show()"
      ],
      "execution_count": 0,
      "outputs": [
        {
          "output_type": "display_data",
          "data": {
            "image/png": "[encoded data removed]",
            "text/plain": [
              "<Figure size 432x288 with 1 Axes>"
            ]
          },
          "metadata": {
            "tags": []
          }
        }
      ]
    },
    {
      "cell_type": "markdown",
      "metadata": {
        "colab_type": "text",
        "id": "4_kCnsPUqS6o"
      },
      "source": [
        "You can import your own data into Colab notebooks from your Google Drive account, including from spreadsheets, as well as from Github and many other sources. To learn more about importing data, and how Colab can be used for data science, see the links below under [Working with Data](#working-with-data)."
      ]
    },
    {
      "cell_type": "markdown",
      "metadata": {
        "colab_type": "text",
        "id": "OwuxHmxllTwN"
      },
      "source": [
        "## Machine learning\n",
        "\n",
        "With Colab you can import an image dataset, train an image classifier on it, and evaluate the model, all in just [a few lines of code](https://colab.research.google.com/github/tensorflow/docs/blob/master/site/en/tutorials/quickstart/beginner.ipynb). Colab notebooks execute code on Google's cloud servers, meaning you can leverage the power of Google hardware, including [GPUs and TPUs](#using-accelerated-hardware), regardless of the power of your machine. All you need is a browser."
      ]
    },
    {
      "cell_type": "markdown",
      "metadata": {
        "colab_type": "text",
        "id": "ufxBm1yRnruN"
      },
      "source": [
        "Colab is used extensively in the machine learning community with applications including:\n",
        "- Getting started with TensorFlow\n",
        "- Developing and training neural networks\n",
        "- Experimenting with TPUs\n",
        "- Disseminating AI research\n",
        "- Creating tutorials\n",
        "\n",
        "To see sample Colab notebooks that demonstrate machine learning applications, see the [machine learning examples](#machine-learning-examples) below."
      ]
    },
    {
      "cell_type": "markdown",
      "metadata": {
        "colab_type": "text",
        "id": "-Rh3-Vt9Nev9"
      },
      "source": [
        "## More Resources\n",
        "\n",
        "### Working with Notebooks in Colab\n",
        "- [Overview of Colaboratory](/notebooks/basic_features_overview.ipynb)\n",
        "- [Guide to Markdown](/notebooks/markdown_guide.ipynb)\n",
        "- [Importing libraries and installing dependencies](/notebooks/snippets/importing_libraries.ipynb)\n",
        "- [Saving and loading notebooks in GitHub](https://colab.research.google.com/github/googlecolab/colabtools/blob/master/notebooks/colab-github-demo.ipynb)\n",
        "- [Interactive forms](/notebooks/forms.ipynb)\n",
        "- [Interactive widgets](/notebooks/widgets.ipynb)\n",
        "- <img src=\"/img/new.png\" height=\"20px\" align=\"left\" hspace=\"4px\" alt=\"New\"></img>\n",
        " [TensorFlow 2 in Colab](/notebooks/tensorflow_version.ipynb)\n",
        "\n",
        "<a name=\"working-with-data\"></a>\n",
        "### Working with Data\n",
        "- [Loading data: Drive, Sheets, and Google Cloud Storage](/notebooks/io.ipynb) \n",
        "- [Charts: visualizing data](/notebooks/charts.ipynb)\n",
        "- [Getting started with BigQuery](/notebooks/bigquery.ipynb)\n",
        "\n",
        "### Machine Learning Crash Course\n",
        "These are a few of the notebooks from Google's online Machine Learning course. See the [full course website](https://developers.google.com/machine-learning/crash-course/) for more.\n",
        "- [Intro to Pandas](/notebooks/mlcc/intro_to_pandas.ipynb)\n",
        "- [Tensorflow concepts](/notebooks/mlcc/tensorflow_programming_concepts.ipynb)\n",
        "- [First steps with TensorFlow](/notebooks/mlcc/first_steps_with_tensor_flow.ipynb)\n",
        "- [Intro to neural nets](/notebooks/mlcc/intro_to_neural_nets.ipynb)\n",
        "- [Intro to sparse data and embeddings](/notebooks/mlcc/intro_to_sparse_data_and_embeddings.ipynb)\n",
        "\n",
        "<a name=\"using-accelerated-hardware\"></a>\n",
        "### Using Accelerated Hardware\n",
        "- [TensorFlow with GPUs](/notebooks/gpu.ipynb)\n",
        "- [TensorFlow with TPUs](/notebooks/tpu.ipynb)"
      ]
    },
    {
      "cell_type": "markdown",
      "metadata": {
        "colab_type": "text",
        "id": "P-H6Lw1vyNNd"
      },
      "source": [
        "<a name=\"machine-learning-examples\"></a>\n",
        "\n",
        "## Machine Learning Examples\n",
        "\n",
        "To see end-to-end examples of the interactive machine learning analyses that Colaboratory makes possible, check out the [Seedbank](https://research.google.com/seedbank/) project.\n",
        "\n",
        "A few featured examples:\n",
        "\n",
        "- [Neural Style Transfer](https://research.google.com/seedbank/seed/neural_style_transfer_with_tfkeras): Use deep learning to transfer style between images.\n",
        "- [EZ NSynth](https://research.google.com/seedbank/seed/ez_nsynth): Synthesize audio with WaveNet auto-encoders.\n",
        "- [Fashion MNIST with Keras and TPUs](https://research.google.com/seedbank/seed/fashion_mnist_with_keras_and_tpus): Classify fashion-related images with deep learning.\n",
        "- [DeepDream](https://research.google.com/seedbank/seed/deepdream): Produce DeepDream images from your own photos.\n",
        "- [Convolutional VAE](https://research.google.com/seedbank/seed/convolutional_vae): Create a generative model of handwritten digits."
      ]
    },
    {
      "cell_type": "code",
      "metadata": {
        "id": "nyuwSwYH0Ma0",
        "colab_type": "code",
        "colab": {
          "base_uri": "https://localhost:8080/",
          "height": 35
        },
        "outputId": "faf3d484-b57a-4cf2-88cd-0b1c15fc9d1a"
      },
      "source": [
        "import keras"
      ],
      "execution_count": 1,
      "outputs": [
        {
          "output_type": "stream",
          "text": [
            "Using TensorFlow backend.\n"
          ],
          "name": "stderr"
        }
      ]
    },
    {
      "cell_type": "code",
      "metadata": {
        "id": "Qz84a0xV03nd",
        "colab_type": "code",
        "colab": {}
      },
      "source": [
        "import numpy as np\n",
        "import pandas as pd\n",
        "import matplotlib.pyplot as plt\n",
        "%matplotlib inline"
      ],
      "execution_count": 0,
      "outputs": []
    },
    {
      "cell_type": "code",
      "metadata": {
        "id": "kprBjhsM1GC_",
        "colab_type": "code",
        "colab": {}
      },
      "source": [
        "train_set=pd.read_csv('Google_Stock_Price_Train.csv')"
      ],
      "execution_count": 0,
      "outputs": []
    },
    {
      "cell_type": "code",
      "metadata": {
        "id": "olY3COHE1QSD",
        "colab_type": "code",
        "colab": {}
      },
      "source": [
        "training_set=train_set.iloc[:,1:2].values"
      ],
      "execution_count": 0,
      "outputs": []
    },
    {
      "cell_type": "code",
      "metadata": {
        "id": "ykRiPZZU4dzo",
        "colab_type": "code",
        "colab": {}
      },
      "source": [
        "from sklearn.preprocessing import MinMaxScaler\n",
        "sc=MinMaxScaler(feature_range=(0,1))\n",
        "sc_train=sc.fit_transform(training_set)\n"
      ],
      "execution_count": 0,
      "outputs": []
    },
    {
      "cell_type": "code",
      "metadata": {
        "id": "RHSRQ2qB1b3f",
        "colab_type": "code",
        "colab": {}
      },
      "source": [
        "X_train=[]\n",
        "y_train=[]\n",
        "for i in range(60,1258):\n",
        "  X_train.append(sc_train[i-60:i,0])\n",
        "  y_train.append(sc_train[i,0])"
      ],
      "execution_count": 0,
      "outputs": []
    },
    {
      "cell_type": "code",
      "metadata": {
        "id": "00v8if-o4E9S",
        "colab_type": "code",
        "colab": {}
      },
      "source": [
        "X_train,y_train=np.array(X_train),np.array(y_train)"
      ],
      "execution_count": 0,
      "outputs": []
    },
    {
      "cell_type": "code",
      "metadata": {
        "id": "dVXKoJDv4Pm7",
        "colab_type": "code",
        "colab": {}
      },
      "source": [
        "X_train=np.reshape(X_train,(X_train.shape[0],X_train.shape[1],1))"
      ],
      "execution_count": 0,
      "outputs": []
    },
    {
      "cell_type": "code",
      "metadata": {
        "id": "7j5BWCFh4ZvV",
        "colab_type": "code",
        "colab": {}
      },
      "source": [
        "from keras.models import Sequential\n",
        "from keras.layers import LSTM,Dropout,Dense,Activation"
      ],
      "execution_count": 0,
      "outputs": []
    },
    {
      "cell_type": "code",
      "metadata": {
        "id": "LthnGJD86j-Y",
        "colab_type": "code",
        "colab": {}
      },
      "source": [
        "model=Sequential()"
      ],
      "execution_count": 0,
      "outputs": []
    },
    {
      "cell_type": "code",
      "metadata": {
        "id": "Ov9sn61Z6nCZ",
        "colab_type": "code",
        "colab": {}
      },
      "source": [
        "model.add(LSTM(100,return_sequences=True,input_shape=(X_train.shape[1],1)))"
      ],
      "execution_count": 0,
      "outputs": []
    },
    {
      "cell_type": "code",
      "metadata": {
        "id": "yAOy4kbs7k-1",
        "colab_type": "code",
        "colab": {}
      },
      "source": [
        "model.add(Dropout(0.2))"
      ],
      "execution_count": 0,
      "outputs": []
    },
    {
      "cell_type": "code",
      "metadata": {
        "id": "2oJwatDi8XY9",
        "colab_type": "code",
        "colab": {}
      },
      "source": [
        "model.add(LSTM(100,return_sequences=True))"
      ],
      "execution_count": 0,
      "outputs": []
    },
    {
      "cell_type": "code",
      "metadata": {
        "id": "R_cml8Wg-4jj",
        "colab_type": "code",
        "colab": {}
      },
      "source": [
        "model.add(Dropout(0.2))\n",
        "model.add(LSTM(100,return_sequences=True))"
      ],
      "execution_count": 0,
      "outputs": []
    },
    {
      "cell_type": "code",
      "metadata": {
        "id": "sr2B-jMa_Bo9",
        "colab_type": "code",
        "colab": {}
      },
      "source": [
        "model.add(Dropout(0.2))"
      ],
      "execution_count": 0,
      "outputs": []
    },
    {
      "cell_type": "code",
      "metadata": {
        "id": "LzFIk19r_I3M",
        "colab_type": "code",
        "colab": {}
      },
      "source": [
        "model.add(LSTM(100))\n",
        "model.add(Dense(1,activation='relu'))"
      ],
      "execution_count": 0,
      "outputs": []
    },
    {
      "cell_type": "code",
      "metadata": {
        "id": "JhlZ1gPl_ROB",
        "colab_type": "code",
        "colab": {}
      },
      "source": [
        "model.compile(optimizer='adamax',loss='mean_squared_error')"
      ],
      "execution_count": 0,
      "outputs": []
    },
    {
      "cell_type": "code",
      "metadata": {
        "id": "YcHl9JP8_whz",
        "colab_type": "code",
        "colab": {
          "base_uri": "https://localhost:8080/",
          "height": 1000
        },
        "outputId": "b2b60115-5bd7-4d11-d0e2-b544031fc424"
      },
      "source": [
        "model.fit(X_train,y_train,epochs=200,batch_size=25)"
      ],
      "execution_count": 27,
      "outputs": [
        {
          "output_type": "stream",
          "text": [
            "Epoch 1/200\n",
            "1198/1198 [==============================] - 10s 9ms/step - loss: 0.0153\n",
            "Epoch 2/200\n",
            "1198/1198 [==============================] - 9s 8ms/step - loss: 0.0024\n",
            "Epoch 3/200\n",
            "1198/1198 [==============================] - 9s 8ms/step - loss: 0.0023\n",
            "Epoch 4/200\n",
            "1198/1198 [==============================] - 9s 8ms/step - loss: 0.0024\n",
            "Epoch 5/200\n",
            "1198/1198 [==============================] - 9s 8ms/step - loss: 0.0027\n",
            "Epoch 6/200\n",
            "1198/1198 [==============================] - 9s 8ms/step - loss: 0.0025\n",
            "Epoch 7/200\n",
            "1198/1198 [==============================] - 9s 8ms/step - loss: 0.0020\n",
            "Epoch 8/200\n",
            "1198/1198 [==============================] - 9s 8ms/step - loss: 0.0020\n",
            "Epoch 9/200\n",
            "1198/1198 [==============================] - 9s 8ms/step - loss: 0.0019\n",
            "Epoch 10/200\n",
            "1198/1198 [==============================] - 9s 8ms/step - loss: 0.0022\n",
            "Epoch 11/200\n",
            "1198/1198 [==============================] - 9s 8ms/step - loss: 0.0021\n",
            "Epoch 12/200\n",
            "1198/1198 [==============================] - 9s 8ms/step - loss: 0.0018\n",
            "Epoch 13/200\n",
            "1198/1198 [==============================] - 10s 8ms/step - loss: 0.0018\n",
            "Epoch 14/200\n",
            "1198/1198 [==============================] - 10s 8ms/step - loss: 0.0018\n",
            "Epoch 15/200\n",
            "1198/1198 [==============================] - 10s 8ms/step - loss: 0.0018\n",
            "Epoch 16/200\n",
            "1198/1198 [==============================] - 10s 8ms/step - loss: 0.0017\n",
            "Epoch 17/200\n",
            "1198/1198 [==============================] - 9s 8ms/step - loss: 0.0023\n",
            "Epoch 18/200\n",
            "1198/1198 [==============================] - 9s 8ms/step - loss: 0.0017\n",
            "Epoch 19/200\n",
            "1198/1198 [==============================] - 9s 8ms/step - loss: 0.0021\n",
            "Epoch 20/200\n",
            "1198/1198 [==============================] - 9s 8ms/step - loss: 0.0016\n",
            "Epoch 21/200\n",
            "1198/1198 [==============================] - 9s 8ms/step - loss: 0.0016\n",
            "Epoch 22/200\n",
            "1198/1198 [==============================] - 9s 8ms/step - loss: 0.0016\n",
            "Epoch 23/200\n",
            "1198/1198 [==============================] - 9s 8ms/step - loss: 0.0016\n",
            "Epoch 24/200\n",
            "1198/1198 [==============================] - 9s 8ms/step - loss: 0.0015\n",
            "Epoch 25/200\n",
            "1198/1198 [==============================] - 9s 8ms/step - loss: 0.0016\n",
            "Epoch 26/200\n",
            "1198/1198 [==============================] - 9s 8ms/step - loss: 0.0017\n",
            "Epoch 27/200\n",
            "1198/1198 [==============================] - 9s 8ms/step - loss: 0.0017\n",
            "Epoch 28/200\n",
            "1198/1198 [==============================] - 9s 8ms/step - loss: 0.0015\n",
            "Epoch 29/200\n",
            "1198/1198 [==============================] - 9s 8ms/step - loss: 0.0014\n",
            "Epoch 30/200\n",
            "1198/1198 [==============================] - 9s 8ms/step - loss: 0.0016\n",
            "Epoch 31/200\n",
            "1198/1198 [==============================] - 9s 8ms/step - loss: 0.0017\n",
            "Epoch 32/200\n",
            "1198/1198 [==============================] - 9s 8ms/step - loss: 0.0015\n",
            "Epoch 33/200\n",
            "1198/1198 [==============================] - 9s 8ms/step - loss: 0.0013\n",
            "Epoch 34/200\n",
            "1198/1198 [==============================] - 9s 8ms/step - loss: 0.0014\n",
            "Epoch 35/200\n",
            "1198/1198 [==============================] - 9s 8ms/step - loss: 0.0016\n",
            "Epoch 36/200\n",
            "1198/1198 [==============================] - 9s 8ms/step - loss: 0.0013\n",
            "Epoch 37/200\n",
            "1198/1198 [==============================] - 9s 8ms/step - loss: 0.0015\n",
            "Epoch 38/200\n",
            "1198/1198 [==============================] - 9s 8ms/step - loss: 0.0013\n",
            "Epoch 39/200\n",
            "1198/1198 [==============================] - 9s 8ms/step - loss: 0.0011\n",
            "Epoch 40/200\n",
            "1198/1198 [==============================] - 9s 8ms/step - loss: 0.0016\n",
            "Epoch 41/200\n",
            "1198/1198 [==============================] - 9s 8ms/step - loss: 0.0012\n",
            "Epoch 42/200\n",
            "1198/1198 [==============================] - 9s 8ms/step - loss: 0.0013\n",
            "Epoch 43/200\n",
            "1198/1198 [==============================] - 9s 8ms/step - loss: 0.0012\n",
            "Epoch 44/200\n",
            "1198/1198 [==============================] - 9s 8ms/step - loss: 0.0011\n",
            "Epoch 45/200\n",
            "1198/1198 [==============================] - 9s 8ms/step - loss: 0.0012\n",
            "Epoch 46/200\n",
            "1198/1198 [==============================] - 9s 8ms/step - loss: 0.0012\n",
            "Epoch 47/200\n",
            "1198/1198 [==============================] - 9s 8ms/step - loss: 0.0012\n",
            "Epoch 48/200\n",
            "1198/1198 [==============================] - 9s 8ms/step - loss: 0.0010\n",
            "Epoch 49/200\n",
            "1198/1198 [==============================] - 9s 8ms/step - loss: 0.0010\n",
            "Epoch 50/200\n",
            "1198/1198 [==============================] - 9s 8ms/step - loss: 0.0010\n",
            "Epoch 51/200\n",
            "1198/1198 [==============================] - 9s 8ms/step - loss: 0.0010\n",
            "Epoch 52/200\n",
            "1198/1198 [==============================] - 9s 8ms/step - loss: 0.0011\n",
            "Epoch 53/200\n",
            "1198/1198 [==============================] - 9s 8ms/step - loss: 9.9671e-04\n",
            "Epoch 54/200\n",
            "1198/1198 [==============================] - 9s 8ms/step - loss: 0.0010\n",
            "Epoch 55/200\n",
            "1198/1198 [==============================] - 13s 11ms/step - loss: 0.0010\n",
            "Epoch 56/200\n",
            "1198/1198 [==============================] - 10s 8ms/step - loss: 9.5035e-04\n",
            "Epoch 57/200\n",
            "1198/1198 [==============================] - 9s 8ms/step - loss: 9.9393e-04\n",
            "Epoch 58/200\n",
            "1198/1198 [==============================] - 9s 8ms/step - loss: 8.5443e-04\n",
            "Epoch 59/200\n",
            "1198/1198 [==============================] - 9s 8ms/step - loss: 8.5352e-04\n",
            "Epoch 60/200\n",
            "1198/1198 [==============================] - 9s 8ms/step - loss: 9.6460e-04\n",
            "Epoch 61/200\n",
            "1198/1198 [==============================] - 9s 8ms/step - loss: 9.3286e-04\n",
            "Epoch 62/200\n",
            "1198/1198 [==============================] - 9s 8ms/step - loss: 9.1135e-04\n",
            "Epoch 63/200\n",
            "1198/1198 [==============================] - 9s 8ms/step - loss: 8.3667e-04\n",
            "Epoch 64/200\n",
            "1198/1198 [==============================] - 9s 8ms/step - loss: 9.8255e-04\n",
            "Epoch 65/200\n",
            "1198/1198 [==============================] - 9s 8ms/step - loss: 8.5207e-04\n",
            "Epoch 66/200\n",
            "1198/1198 [==============================] - 9s 8ms/step - loss: 8.7468e-04\n",
            "Epoch 67/200\n",
            "1198/1198 [==============================] - 9s 8ms/step - loss: 7.5297e-04\n",
            "Epoch 68/200\n",
            "1198/1198 [==============================] - 9s 8ms/step - loss: 8.4136e-04\n",
            "Epoch 69/200\n",
            "1198/1198 [==============================] - 9s 8ms/step - loss: 8.1198e-04\n",
            "Epoch 70/200\n",
            "1198/1198 [==============================] - 9s 8ms/step - loss: 7.6475e-04\n",
            "Epoch 71/200\n",
            "1198/1198 [==============================] - 9s 8ms/step - loss: 7.4426e-04\n",
            "Epoch 72/200\n",
            "1198/1198 [==============================] - 9s 8ms/step - loss: 8.7573e-04\n",
            "Epoch 73/200\n",
            "1198/1198 [==============================] - 9s 8ms/step - loss: 7.1512e-04\n",
            "Epoch 74/200\n",
            "1198/1198 [==============================] - 9s 8ms/step - loss: 7.1352e-04\n",
            "Epoch 75/200\n",
            "1198/1198 [==============================] - 9s 8ms/step - loss: 8.2776e-04\n",
            "Epoch 76/200\n",
            "1198/1198 [==============================] - 9s 8ms/step - loss: 7.5290e-04\n",
            "Epoch 77/200\n",
            "1198/1198 [==============================] - 9s 8ms/step - loss: 6.9659e-04\n",
            "Epoch 78/200\n",
            "1198/1198 [==============================] - 9s 7ms/step - loss: 7.4834e-04\n",
            "Epoch 79/200\n",
            "1198/1198 [==============================] - 9s 8ms/step - loss: 7.7458e-04\n",
            "Epoch 80/200\n",
            "1198/1198 [==============================] - 9s 8ms/step - loss: 6.5300e-04\n",
            "Epoch 81/200\n",
            "1198/1198 [==============================] - 9s 8ms/step - loss: 9.1343e-04\n",
            "Epoch 82/200\n",
            "1198/1198 [==============================] - 9s 8ms/step - loss: 6.1582e-04\n",
            "Epoch 83/200\n",
            "1198/1198 [==============================] - 9s 8ms/step - loss: 6.3003e-04\n",
            "Epoch 84/200\n",
            "1198/1198 [==============================] - 9s 8ms/step - loss: 6.1024e-04\n",
            "Epoch 85/200\n",
            "1198/1198 [==============================] - 9s 8ms/step - loss: 6.5268e-04\n",
            "Epoch 86/200\n",
            "1198/1198 [==============================] - 9s 8ms/step - loss: 6.8852e-04\n",
            "Epoch 87/200\n",
            "1198/1198 [==============================] - 9s 8ms/step - loss: 8.2652e-04\n",
            "Epoch 88/200\n",
            "1198/1198 [==============================] - 9s 8ms/step - loss: 6.3546e-04\n",
            "Epoch 89/200\n",
            "1198/1198 [==============================] - 9s 8ms/step - loss: 6.3702e-04\n",
            "Epoch 90/200\n",
            "1198/1198 [==============================] - 9s 8ms/step - loss: 7.2372e-04\n",
            "Epoch 91/200\n",
            "1198/1198 [==============================] - 9s 8ms/step - loss: 6.5656e-04\n",
            "Epoch 92/200\n",
            "1198/1198 [==============================] - 9s 8ms/step - loss: 6.1277e-04\n",
            "Epoch 93/200\n",
            "1198/1198 [==============================] - 9s 8ms/step - loss: 6.4760e-04\n",
            "Epoch 94/200\n",
            "1198/1198 [==============================] - 9s 8ms/step - loss: 5.7984e-04\n",
            "Epoch 95/200\n",
            "1198/1198 [==============================] - 9s 8ms/step - loss: 6.1111e-04\n",
            "Epoch 96/200\n",
            "1198/1198 [==============================] - 9s 8ms/step - loss: 6.4133e-04\n",
            "Epoch 97/200\n",
            "1198/1198 [==============================] - 9s 8ms/step - loss: 6.7612e-04\n",
            "Epoch 98/200\n",
            "1198/1198 [==============================] - 9s 8ms/step - loss: 6.7934e-04\n",
            "Epoch 99/200\n",
            "1198/1198 [==============================] - 9s 8ms/step - loss: 5.7995e-04\n",
            "Epoch 100/200\n",
            "1198/1198 [==============================] - 9s 8ms/step - loss: 6.2429e-04\n",
            "Epoch 101/200\n",
            "1198/1198 [==============================] - 9s 8ms/step - loss: 6.4615e-04\n",
            "Epoch 102/200\n",
            "1198/1198 [==============================] - 9s 8ms/step - loss: 5.9529e-04\n",
            "Epoch 103/200\n",
            "1198/1198 [==============================] - 9s 8ms/step - loss: 5.5137e-04\n",
            "Epoch 104/200\n",
            "1198/1198 [==============================] - 9s 8ms/step - loss: 5.7241e-04\n",
            "Epoch 105/200\n",
            "1198/1198 [==============================] - 9s 8ms/step - loss: 6.3947e-04\n",
            "Epoch 106/200\n",
            "1198/1198 [==============================] - 9s 8ms/step - loss: 6.4362e-04\n",
            "Epoch 107/200\n",
            "1198/1198 [==============================] - 9s 8ms/step - loss: 6.5994e-04\n",
            "Epoch 108/200\n",
            "1198/1198 [==============================] - 9s 8ms/step - loss: 6.2393e-04\n",
            "Epoch 109/200\n",
            "1198/1198 [==============================] - 9s 8ms/step - loss: 6.2690e-04\n",
            "Epoch 110/200\n",
            "1198/1198 [==============================] - 9s 8ms/step - loss: 6.2935e-04\n",
            "Epoch 111/200\n",
            "1198/1198 [==============================] - 9s 8ms/step - loss: 5.4352e-04\n",
            "Epoch 112/200\n",
            "1198/1198 [==============================] - 9s 8ms/step - loss: 6.5671e-04\n",
            "Epoch 113/200\n",
            "1198/1198 [==============================] - 9s 8ms/step - loss: 5.5514e-04\n",
            "Epoch 114/200\n",
            "1198/1198 [==============================] - 9s 8ms/step - loss: 6.2103e-04\n",
            "Epoch 115/200\n",
            "1198/1198 [==============================] - 9s 8ms/step - loss: 5.4630e-04\n",
            "Epoch 116/200\n",
            "1198/1198 [==============================] - 9s 8ms/step - loss: 5.5851e-04\n",
            "Epoch 117/200\n",
            "1198/1198 [==============================] - 9s 8ms/step - loss: 5.6579e-04\n",
            "Epoch 118/200\n",
            "1198/1198 [==============================] - 9s 8ms/step - loss: 5.8560e-04\n",
            "Epoch 119/200\n",
            "1198/1198 [==============================] - 9s 8ms/step - loss: 6.1958e-04\n",
            "Epoch 120/200\n",
            "1198/1198 [==============================] - 9s 8ms/step - loss: 5.2585e-04\n",
            "Epoch 121/200\n",
            "1198/1198 [==============================] - 9s 8ms/step - loss: 5.3325e-04\n",
            "Epoch 122/200\n",
            "1198/1198 [==============================] - 9s 8ms/step - loss: 4.5933e-04\n",
            "Epoch 123/200\n",
            "1198/1198 [==============================] - 9s 8ms/step - loss: 5.3533e-04\n",
            "Epoch 124/200\n",
            "1198/1198 [==============================] - 9s 8ms/step - loss: 4.9527e-04\n",
            "Epoch 125/200\n",
            "1198/1198 [==============================] - 9s 8ms/step - loss: 4.5979e-04\n",
            "Epoch 126/200\n",
            "1198/1198 [==============================] - 9s 8ms/step - loss: 6.0481e-04\n",
            "Epoch 127/200\n",
            "1198/1198 [==============================] - 9s 8ms/step - loss: 5.5006e-04\n",
            "Epoch 128/200\n",
            "1198/1198 [==============================] - 9s 8ms/step - loss: 5.1648e-04\n",
            "Epoch 129/200\n",
            "1198/1198 [==============================] - 9s 8ms/step - loss: 6.9223e-04\n",
            "Epoch 130/200\n",
            "1198/1198 [==============================] - 9s 8ms/step - loss: 5.1669e-04\n",
            "Epoch 131/200\n",
            "1198/1198 [==============================] - 9s 8ms/step - loss: 4.9273e-04\n",
            "Epoch 132/200\n",
            "1198/1198 [==============================] - 9s 8ms/step - loss: 4.7196e-04\n",
            "Epoch 133/200\n",
            "1198/1198 [==============================] - 9s 8ms/step - loss: 5.5943e-04\n",
            "Epoch 134/200\n",
            "1198/1198 [==============================] - 9s 8ms/step - loss: 5.1090e-04\n",
            "Epoch 135/200\n",
            "1198/1198 [==============================] - 9s 8ms/step - loss: 5.2998e-04\n",
            "Epoch 136/200\n",
            "1198/1198 [==============================] - 9s 8ms/step - loss: 4.9390e-04\n",
            "Epoch 137/200\n",
            "1198/1198 [==============================] - 9s 8ms/step - loss: 5.0649e-04\n",
            "Epoch 138/200\n",
            "1198/1198 [==============================] - 9s 8ms/step - loss: 4.7300e-04\n",
            "Epoch 139/200\n",
            "1198/1198 [==============================] - 9s 8ms/step - loss: 4.4556e-04\n",
            "Epoch 140/200\n",
            "1198/1198 [==============================] - 9s 8ms/step - loss: 4.7461e-04\n",
            "Epoch 141/200\n",
            "1198/1198 [==============================] - 9s 8ms/step - loss: 5.3145e-04\n",
            "Epoch 142/200\n",
            "1198/1198 [==============================] - 9s 8ms/step - loss: 5.1496e-04\n",
            "Epoch 143/200\n",
            "1198/1198 [==============================] - 9s 8ms/step - loss: 5.5938e-04\n",
            "Epoch 144/200\n",
            "1198/1198 [==============================] - 9s 8ms/step - loss: 4.6475e-04\n",
            "Epoch 145/200\n",
            "1198/1198 [==============================] - 9s 8ms/step - loss: 4.3677e-04\n",
            "Epoch 146/200\n",
            "1198/1198 [==============================] - 9s 8ms/step - loss: 4.9402e-04\n",
            "Epoch 147/200\n",
            "1198/1198 [==============================] - 9s 7ms/step - loss: 4.6822e-04\n",
            "Epoch 148/200\n",
            "1198/1198 [==============================] - 9s 8ms/step - loss: 4.4042e-04\n",
            "Epoch 149/200\n",
            "1198/1198 [==============================] - 9s 8ms/step - loss: 6.1846e-04\n",
            "Epoch 150/200\n",
            "1198/1198 [==============================] - 9s 8ms/step - loss: 5.5489e-04\n",
            "Epoch 151/200\n",
            "1198/1198 [==============================] - 9s 8ms/step - loss: 5.4196e-04\n",
            "Epoch 152/200\n",
            "1198/1198 [==============================] - 9s 8ms/step - loss: 4.7205e-04\n",
            "Epoch 153/200\n",
            "1198/1198 [==============================] - 9s 8ms/step - loss: 4.4627e-04\n",
            "Epoch 154/200\n",
            "1198/1198 [==============================] - 9s 8ms/step - loss: 4.6301e-04\n",
            "Epoch 155/200\n",
            "1198/1198 [==============================] - 9s 8ms/step - loss: 4.9787e-04\n",
            "Epoch 156/200\n",
            "1198/1198 [==============================] - 9s 8ms/step - loss: 4.6377e-04\n",
            "Epoch 157/200\n",
            "1198/1198 [==============================] - 9s 8ms/step - loss: 4.5946e-04\n",
            "Epoch 158/200\n",
            "1198/1198 [==============================] - 9s 8ms/step - loss: 4.5165e-04\n",
            "Epoch 159/200\n",
            "1198/1198 [==============================] - 9s 8ms/step - loss: 4.8577e-04\n",
            "Epoch 160/200\n",
            "1198/1198 [==============================] - 9s 8ms/step - loss: 5.4091e-04\n",
            "Epoch 161/200\n",
            "1198/1198 [==============================] - 9s 8ms/step - loss: 5.8804e-04\n",
            "Epoch 162/200\n",
            "1198/1198 [==============================] - 9s 8ms/step - loss: 4.9951e-04\n",
            "Epoch 163/200\n",
            "1198/1198 [==============================] - 9s 8ms/step - loss: 4.4047e-04\n",
            "Epoch 164/200\n",
            "1198/1198 [==============================] - 9s 8ms/step - loss: 4.6211e-04\n",
            "Epoch 165/200\n",
            "1198/1198 [==============================] - 9s 8ms/step - loss: 4.4046e-04\n",
            "Epoch 166/200\n",
            "1198/1198 [==============================] - 9s 8ms/step - loss: 4.6918e-04\n",
            "Epoch 167/200\n",
            "1198/1198 [==============================] - 9s 8ms/step - loss: 4.2450e-04\n",
            "Epoch 168/200\n",
            "1198/1198 [==============================] - 9s 8ms/step - loss: 5.2280e-04\n",
            "Epoch 169/200\n",
            "1198/1198 [==============================] - 9s 8ms/step - loss: 4.3946e-04\n",
            "Epoch 170/200\n",
            "1198/1198 [==============================] - 9s 8ms/step - loss: 4.2467e-04\n",
            "Epoch 171/200\n",
            "1198/1198 [==============================] - 9s 8ms/step - loss: 4.0979e-04\n",
            "Epoch 172/200\n",
            "1198/1198 [==============================] - 9s 8ms/step - loss: 4.1225e-04\n",
            "Epoch 173/200\n",
            "1198/1198 [==============================] - 9s 8ms/step - loss: 4.5541e-04\n",
            "Epoch 174/200\n",
            "1198/1198 [==============================] - 9s 8ms/step - loss: 4.2008e-04\n",
            "Epoch 175/200\n",
            "1198/1198 [==============================] - 9s 8ms/step - loss: 4.6856e-04\n",
            "Epoch 176/200\n",
            "1198/1198 [==============================] - 9s 8ms/step - loss: 4.5282e-04\n",
            "Epoch 177/200\n",
            "1198/1198 [==============================] - 9s 8ms/step - loss: 4.7601e-04\n",
            "Epoch 178/200\n",
            "1198/1198 [==============================] - 9s 8ms/step - loss: 4.5285e-04\n",
            "Epoch 179/200\n",
            "1198/1198 [==============================] - 9s 8ms/step - loss: 4.2282e-04\n",
            "Epoch 180/200\n",
            "1198/1198 [==============================] - 9s 8ms/step - loss: 4.6751e-04\n",
            "Epoch 181/200\n",
            "1198/1198 [==============================] - 9s 8ms/step - loss: 5.1680e-04\n",
            "Epoch 182/200\n",
            "1198/1198 [==============================] - 9s 8ms/step - loss: 4.6374e-04\n",
            "Epoch 183/200\n",
            "1198/1198 [==============================] - 9s 8ms/step - loss: 4.7930e-04\n",
            "Epoch 184/200\n",
            "1198/1198 [==============================] - 9s 8ms/step - loss: 4.1690e-04\n",
            "Epoch 185/200\n",
            "1198/1198 [==============================] - 9s 8ms/step - loss: 3.9826e-04\n",
            "Epoch 186/200\n",
            "1198/1198 [==============================] - 9s 8ms/step - loss: 5.5820e-04\n",
            "Epoch 187/200\n",
            "1198/1198 [==============================] - 9s 8ms/step - loss: 4.8972e-04\n",
            "Epoch 188/200\n",
            "1198/1198 [==============================] - 9s 8ms/step - loss: 4.0060e-04\n",
            "Epoch 189/200\n",
            "1198/1198 [==============================] - 9s 8ms/step - loss: 4.3544e-04\n",
            "Epoch 190/200\n",
            "1198/1198 [==============================] - 9s 8ms/step - loss: 4.3427e-04\n",
            "Epoch 191/200\n",
            "1198/1198 [==============================] - 9s 8ms/step - loss: 5.1466e-04\n",
            "Epoch 192/200\n",
            "1198/1198 [==============================] - 9s 8ms/step - loss: 3.9480e-04\n",
            "Epoch 193/200\n",
            "1198/1198 [==============================] - 9s 8ms/step - loss: 4.8480e-04\n",
            "Epoch 194/200\n",
            "1198/1198 [==============================] - 9s 8ms/step - loss: 4.5718e-04\n",
            "Epoch 195/200\n",
            "1198/1198 [==============================] - 9s 8ms/step - loss: 4.4213e-04\n",
            "Epoch 196/200\n",
            "1198/1198 [==============================] - 9s 8ms/step - loss: 4.0204e-04\n",
            "Epoch 197/200\n",
            "1198/1198 [==============================] - 9s 8ms/step - loss: 4.2462e-04\n",
            "Epoch 198/200\n",
            "1198/1198 [==============================] - 9s 8ms/step - loss: 4.4550e-04\n",
            "Epoch 199/200\n",
            "1198/1198 [==============================] - 9s 8ms/step - loss: 4.6300e-04\n",
            "Epoch 200/200\n",
            "1198/1198 [==============================] - 9s 8ms/step - loss: 4.7760e-04\n"
          ],
          "name": "stdout"
        },
        {
          "output_type": "execute_result",
          "data": {
            "text/plain": [
              "<keras.callbacks.callbacks.History at 0x7f1960202c88>"
            ]
          },
          "metadata": {
            "tags": []
          },
          "execution_count": 27
        }
      ]
    },
    {
      "cell_type": "code",
      "metadata": {
        "id": "5Ww0O-D7AFXC",
        "colab_type": "code",
        "colab": {}
      },
      "source": [
        "dataset_test=pd.read_csv('Google_Stock_Price_Test.csv')"
      ],
      "execution_count": 0,
      "outputs": []
    },
    {
      "cell_type": "code",
      "metadata": {
        "id": "3CGsRu2HIPXb",
        "colab_type": "code",
        "colab": {}
      },
      "source": [
        "real_stock_price=dataset_test.iloc[:,1:2].values"
      ],
      "execution_count": 0,
      "outputs": []
    },
    {
      "cell_type": "code",
      "metadata": {
        "id": "TtLPofm6Ib7V",
        "colab_type": "code",
        "colab": {}
      },
      "source": [
        "dataset_total=pd.concat((train_set['Open'],dataset_test['Open']),axis=0)"
      ],
      "execution_count": 0,
      "outputs": []
    },
    {
      "cell_type": "code",
      "metadata": {
        "id": "H_bCXx9_JD_Y",
        "colab_type": "code",
        "colab": {}
      },
      "source": [
        "inputs=dataset_total[len(dataset_total)-len(dataset_test) -60:].values"
      ],
      "execution_count": 0,
      "outputs": []
    },
    {
      "cell_type": "code",
      "metadata": {
        "id": "tSjKfPLAJu9g",
        "colab_type": "code",
        "colab": {}
      },
      "source": [
        "inputs=inputs.reshape(-1,1)"
      ],
      "execution_count": 0,
      "outputs": []
    },
    {
      "cell_type": "code",
      "metadata": {
        "id": "F7ywR_RIJ0NI",
        "colab_type": "code",
        "colab": {}
      },
      "source": [
        "inputs=sc.transform(inputs)"
      ],
      "execution_count": 0,
      "outputs": []
    },
    {
      "cell_type": "code",
      "metadata": {
        "id": "VSx1t5pAKj93",
        "colab_type": "code",
        "colab": {}
      },
      "source": [
        "X_test = []\n",
        "for i in range(60, 80):\n",
        "    X_test.append(inputs[i-60:i, 0])\n",
        "X_test = np.array(X_test)\n",
        "X_test = np.reshape(X_test, (X_test.shape[0], X_test.shape[1], 1))"
      ],
      "execution_count": 0,
      "outputs": []
    },
    {
      "cell_type": "code",
      "metadata": {
        "id": "oScXmrSAPIFo",
        "colab_type": "code",
        "colab": {}
      },
      "source": [
        "predicted_stock_price = model.predict(X_test)\n",
        "predicted_stock_price = sc.inverse_transform(predicted_stock_price)"
      ],
      "execution_count": 0,
      "outputs": []
    },
    {
      "cell_type": "code",
      "metadata": {
        "id": "HYtdoDMyP45M",
        "colab_type": "code",
        "colab": {
          "base_uri": "https://localhost:8080/",
          "height": 295
        },
        "outputId": "2a2fcb52-ff8c-48ed-af28-073f99188521"
      },
      "source": [
        "plt.plot(real_stock_price, color = 'red', label = 'Real Google Stock Price')\n",
        "plt.plot(predicted_stock_price, color = 'blue', label = 'Predicted Google Stock Price')\n",
        "plt.title('Google Stock Price Prediction')\n",
        "plt.xlabel('Time')\n",
        "plt.ylabel('Google Stock Price')\n",
        "plt.legend()\n",
        "plt.show()"
      ],
      "execution_count": 67,
      "outputs": [
        {
          "output_type": "display_data",
          "data": {
            "image/png": "[encoded data removed]",
            "text/plain": [
              "<Figure size 432x288 with 1 Axes>"
            ]
          },
          "metadata": {
            "tags": [],
            "needs_background": "light"
          }
        }
      ]
    },
    {
      "cell_type": "code",
      "metadata": {
        "id": "H-IQ2iRcQR4U",
        "colab_type": "code",
        "colab": {}
      },
      "source": [
        ""
      ],
      "execution_count": 0,
      "outputs": []
    }
  ]
}